{
  "cells": [
    {
      "cell_type": "markdown",
      "metadata": {
        "id": "W2J7n5f0_A00"
      },
      "source": [
        "# MNIST handwritten digits classification with MLPs\n",
        "\n",
        "In this notebook, we'll train a multi-layer perceptron model to classify MNIST digits using **PyTorch**.\n",
        "\n",
        "First, the needed imports."
      ]
    },
    {
      "cell_type": "code",
      "execution_count": 1,
      "metadata": {
        "colab": {
          "base_uri": "https://localhost:8080/"
        },
        "id": "0jSlM_cq_A05",
        "outputId": "47a79eae-b27e-4e98-ef1c-26ac4bbeef95"
      },
      "outputs": [
        {
          "name": "stdout",
          "output_type": "stream",
          "text": [
            "Using PyTorch version: 2.8.0+cu129  Device: cuda\n"
          ]
        }
      ],
      "source": [
        "%matplotlib inline\n",
        "\n",
        "import torch\n",
        "import torch.nn as nn\n",
        "import torch.nn.functional as F\n",
        "from torchvision import datasets, transforms\n",
        "\n",
        "import numpy as np\n",
        "import matplotlib.pyplot as plt\n",
        "\n",
        "if torch.cuda.is_available():\n",
        "    device = torch.device('cuda')\n",
        "else:\n",
        "    device = torch.device('cpu')\n",
        "\n",
        "print('Using PyTorch version:', torch.__version__, ' Device:', device)"
      ]
    },
    {
      "cell_type": "markdown",
      "metadata": {
        "id": "vN-qRXB5_A07"
      },
      "source": [
        "## Data\n",
        "\n",
        "Next we'll load the MNIST data.  First time we may have to download the data, which can take a while.\n",
        "\n",
        "Note that we are here using the MNIST test data for *validation*, instead of for testing the final model."
      ]
    },
    {
      "cell_type": "code",
      "execution_count": 2,
      "metadata": {
        "colab": {
          "base_uri": "https://localhost:8080/"
        },
        "id": "E0eknvgX_A07",
        "outputId": "16d23590-763a-4904-bd0e-a1c20af54657"
      },
      "outputs": [],
      "source": [
        "batch_size = 32\n",
        "\n",
        "train_dataset = datasets.MNIST('./data',\n",
        "                               train=True,\n",
        "                               download=True,\n",
        "                               transform=transforms.ToTensor())\n",
        "\n",
        "validation_dataset = datasets.MNIST('./data',\n",
        "                                    train=False,\n",
        "                                    transform=transforms.ToTensor())\n",
        "\n",
        "train_loader = torch.utils.data.DataLoader(dataset=train_dataset,\n",
        "                                           batch_size=batch_size,\n",
        "                                           shuffle=True)\n",
        "\n",
        "validation_loader = torch.utils.data.DataLoader(dataset=validation_dataset,\n",
        "                                                batch_size=batch_size,\n",
        "                                                shuffle=False)"
      ]
    },
    {
      "cell_type": "markdown",
      "metadata": {
        "id": "qEAti-0Z_A08"
      },
      "source": [
        "The train and test data are provided via data loaders that provide iterators over the datasets. The first element of training data (`X_train`) is a 4th-order tensor of size (`batch_size`, 1, 28, 28), i.e. it consists of a batch of images of size 1x28x28 pixels. `y_train` is a vector containing the correct classes (\"0\", \"1\", ..., \"9\") for each training digit."
      ]
    },
    {
      "cell_type": "code",
      "execution_count": 3,
      "metadata": {
        "colab": {
          "base_uri": "https://localhost:8080/"
        },
        "id": "VzEhBaq2_A08",
        "outputId": "9abb44be-b366-44aa-a681-aeb5f3630926"
      },
      "outputs": [
        {
          "name": "stdout",
          "output_type": "stream",
          "text": [
            "X_train: torch.Size([32, 1, 28, 28]) type: torch.FloatTensor\n",
            "y_train: torch.Size([32]) type: torch.LongTensor\n"
          ]
        }
      ],
      "source": [
        "for (X_train, y_train) in train_loader:\n",
        "    print('X_train:', X_train.size(), 'type:', X_train.type())\n",
        "    print('y_train:', y_train.size(), 'type:', y_train.type())\n",
        "    break"
      ]
    },
    {
      "cell_type": "markdown",
      "metadata": {
        "id": "UmNpRLM7_A09"
      },
      "source": [
        "Here are the first 10 training digits:"
      ]
    },
    {
      "cell_type": "code",
      "execution_count": 4,
      "metadata": {
        "colab": {
          "base_uri": "https://localhost:8080/",
          "height": 125
        },
        "id": "3almTNO6_A09",
        "outputId": "62a36943-401d-47b9-b6a7-f465bd9b68c2"
      },
      "outputs": [],
      "source": [
        "pltsize=1\n",
        "plt.figure(figsize=(10*pltsize, pltsize))\n",
        "\n",
        "for i in range(10):\n",
        "    plt.subplot(1,10,i+1)\n",
        "    plt.axis('off')\n",
        "    plt.imshow(X_train[i,:,:,:].numpy().reshape(28,28), cmap=\"gray_r\")\n",
        "    plt.title('Class: '+str(y_train[i].item()))"
      ]
    },
    {
      "cell_type": "markdown",
      "metadata": {
        "id": "tKOGPFvm_A0-"
      },
      "source": [
        "## MLP network definition\n",
        "\n",
        "Let's define the network as a Python class.  We have to write the `__init__()` and `forward()` methods, and PyTorch will automatically generate a `backward()` method for computing the gradients for the backward pass.\n",
        "\n",
        "Finally, we define an optimizer to update the model parameters based on the computed gradients.  We select *stochastic gradient descent (with momentum)* as the optimization algorithm, and set *learning rate* to 0.01.  Note that there are [several different options](http://pytorch.org/docs/optim.html#algorithms) for the optimizer in PyTorch that we could use instead of *SGD*."
      ]
    },
    {
      "cell_type": "code",
      "execution_count": 5,
      "metadata": {
        "colab": {
          "base_uri": "https://localhost:8080/"
        },
        "id": "eTB5baMu_A0_",
        "outputId": "2285c84d-5395-4d36-fa07-e939680c4239"
      },
      "outputs": [
        {
          "name": "stdout",
          "output_type": "stream",
          "text": [
            "Net(\n",
            "  (fc1): Linear(in_features=784, out_features=50, bias=True)\n",
            "  (fc1_drop): Dropout(p=0.2, inplace=False)\n",
            "  (fc2): Linear(in_features=50, out_features=50, bias=True)\n",
            "  (fc2_drop): Dropout(p=0.2, inplace=False)\n",
            "  (fc3): Linear(in_features=50, out_features=10, bias=True)\n",
            ")\n"
          ]
        }
      ],
      "source": [
        "class Net(nn.Module):\n",
        "    def __init__(self):\n",
        "        super(Net, self).__init__()\n",
        "        self.fc1 = nn.Linear(28*28, 50)\n",
        "        self.fc1_drop = nn.Dropout(0.2)\n",
        "        self.fc2 = nn.Linear(50, 50)\n",
        "        self.fc2_drop = nn.Dropout(0.2)\n",
        "        self.fc3 = nn.Linear(50, 10)\n",
        "\n",
        "    def forward(self, x):\n",
        "        x = x.view(-1, 28*28)\n",
        "        x = F.relu(self.fc1(x))\n",
        "        x = self.fc1_drop(x)\n",
        "        x = F.relu(self.fc2(x))\n",
        "        x = self.fc2_drop(x)\n",
        "        return F.log_softmax(self.fc3(x), dim=1)\n",
        "\n",
        "model = Net().to(device)\n",
        "optimizer = torch.optim.SGD(model.parameters(), lr=0.01, momentum=0.5)\n",
        "criterion = nn.CrossEntropyLoss()\n",
        "\n",
        "print(model)"
      ]
    },
    {
      "cell_type": "markdown",
      "metadata": {
        "id": "lsx8LUU8_A1A"
      },
      "source": [
        "## Learning\n",
        "\n",
        "Let's now define functions to `train()` and `validate()` the model."
      ]
    },
    {
      "cell_type": "code",
      "execution_count": 6,
      "metadata": {
        "id": "Yj6Q8lJO_A1A"
      },
      "outputs": [],
      "source": [
        "# Alteração da função de treino para receber o modelo e otimizador como parâmetros\n",
        "def train(model,optimizer,epoch, log_interval=200):\n",
        "    # Set model to training mode\n",
        "    model.train()\n",
        "\n",
        "    # Loop over each batch from the training set\n",
        "    for batch_idx, (data, target) in enumerate(train_loader):\n",
        "        # Copy data to GPU if needed\n",
        "        data = data.to(device)\n",
        "        target = target.to(device)\n",
        "\n",
        "        # Zero gradient buffers\n",
        "        optimizer.zero_grad()\n",
        "\n",
        "        # Pass data through the network\n",
        "        output = model(data)\n",
        "\n",
        "        # Calculate loss\n",
        "        loss = criterion(output, target)\n",
        "\n",
        "        # Backpropagate\n",
        "        loss.backward()\n",
        "\n",
        "        # Update weights\n",
        "        optimizer.step()\n",
        "\n",
        "        if batch_idx % log_interval == 0:\n",
        "            print('Train Epoch: {} [{}/{} ({:.0f}%)]\\tLoss: {:.6f}'.format(\n",
        "                epoch, batch_idx * len(data), len(train_loader.dataset),\n",
        "                100. * batch_idx / len(train_loader), loss.data.item()))"
      ]
    },
    {
      "cell_type": "code",
      "execution_count": null,
      "metadata": {
        "id": "JBQF5pPg_A1B"
      },
      "outputs": [],
      "source": [
        "# Alteração da função de validação para receber o modelo como parâmetro\n",
        "def validate(model,loss_vector, accuracy_vector):\n",
        "    model.eval()\n",
        "    val_loss, correct = 0, 0\n",
        "    for data, target in validation_loader:\n",
        "        data = data.to(device)\n",
        "        target = target.to(device)\n",
        "        output = model(data)\n",
        "        val_loss += criterion(output, target).data.item()\n",
        "        pred = output.data.max(1)[1] # get the index of the max log-probability\n",
        "        correct += pred.eq(target.data).cpu().sum()\n",
        "\n",
        "    val_loss /= len(validation_loader)\n",
        "    loss_vector.append(val_loss)\n",
        "\n",
        "    accuracy = 100. * correct.to(torch.float32) / len(validation_loader.dataset)\n",
        "    accuracy_vector.append(accuracy)\n",
        "\n",
        "    print('\\nValidation set: Average loss: {:.4f}, Accuracy: {}/{} ({:.0f}%)\\n'.format(\n",
        "        val_loss, correct, len(validation_loader.dataset), accuracy))\n"
      ]
    },
    {
      "cell_type": "markdown",
      "metadata": {
        "id": "0gwV4fud_A1C"
      },
      "source": [
        "Now we are ready to train our model using the `train()` function.  An *epoch* means one pass through the whole training data. After each epoch, we evaluate the model using `validate()`."
      ]
    },
    {
      "cell_type": "code",
      "execution_count": 8,
      "metadata": {
        "colab": {
          "base_uri": "https://localhost:8080/"
        },
        "id": "8zIkjGsc_A1D",
        "outputId": "a7a5153e-4672-43cc-a89d-86cdcae7c255"
      },
      "outputs": [
        {
          "name": "stdout",
          "output_type": "stream",
          "text": [
            "Train Epoch: 1 [0/60000 (0%)]\tLoss: 2.329116\n",
            "Train Epoch: 1 [6400/60000 (11%)]\tLoss: 2.024082\n",
            "Train Epoch: 1 [12800/60000 (21%)]\tLoss: 1.423733\n",
            "Train Epoch: 1 [19200/60000 (32%)]\tLoss: 0.795465\n",
            "Train Epoch: 1 [25600/60000 (43%)]\tLoss: 0.692660\n",
            "Train Epoch: 1 [32000/60000 (53%)]\tLoss: 0.617097\n",
            "Train Epoch: 1 [38400/60000 (64%)]\tLoss: 0.565931\n",
            "Train Epoch: 1 [44800/60000 (75%)]\tLoss: 0.616720\n",
            "Train Epoch: 1 [51200/60000 (85%)]\tLoss: 0.575800\n",
            "Train Epoch: 1 [57600/60000 (96%)]\tLoss: 0.554893\n",
            "\n",
            "Validation set: Average loss: 0.3604, Accuracy: 8969/10000 (90%)\n",
            "\n",
            "Train Epoch: 2 [0/60000 (0%)]\tLoss: 0.543870\n",
            "Train Epoch: 2 [6400/60000 (11%)]\tLoss: 0.514117\n",
            "Train Epoch: 2 [12800/60000 (21%)]\tLoss: 0.533909\n",
            "Train Epoch: 2 [19200/60000 (32%)]\tLoss: 0.476538\n",
            "Train Epoch: 2 [25600/60000 (43%)]\tLoss: 0.485329\n",
            "Train Epoch: 2 [32000/60000 (53%)]\tLoss: 0.234806\n",
            "Train Epoch: 2 [38400/60000 (64%)]\tLoss: 0.344255\n",
            "Train Epoch: 2 [44800/60000 (75%)]\tLoss: 0.383205\n",
            "Train Epoch: 2 [51200/60000 (85%)]\tLoss: 0.123625\n",
            "Train Epoch: 2 [57600/60000 (96%)]\tLoss: 0.430748\n",
            "\n",
            "Validation set: Average loss: 0.2702, Accuracy: 9212/10000 (92%)\n",
            "\n",
            "Train Epoch: 3 [0/60000 (0%)]\tLoss: 0.493484\n",
            "Train Epoch: 3 [6400/60000 (11%)]\tLoss: 0.299631\n",
            "Train Epoch: 3 [12800/60000 (21%)]\tLoss: 0.545841\n",
            "Train Epoch: 3 [19200/60000 (32%)]\tLoss: 0.606199\n",
            "Train Epoch: 3 [25600/60000 (43%)]\tLoss: 0.234628\n",
            "Train Epoch: 3 [32000/60000 (53%)]\tLoss: 0.337784\n",
            "Train Epoch: 3 [38400/60000 (64%)]\tLoss: 0.499932\n",
            "Train Epoch: 3 [44800/60000 (75%)]\tLoss: 0.361324\n",
            "Train Epoch: 3 [51200/60000 (85%)]\tLoss: 0.081868\n",
            "Train Epoch: 3 [57600/60000 (96%)]\tLoss: 0.338060\n",
            "\n",
            "Validation set: Average loss: 0.2182, Accuracy: 9349/10000 (93%)\n",
            "\n",
            "Train Epoch: 4 [0/60000 (0%)]\tLoss: 0.434375\n",
            "Train Epoch: 4 [6400/60000 (11%)]\tLoss: 0.205503\n",
            "Train Epoch: 4 [12800/60000 (21%)]\tLoss: 0.500524\n",
            "Train Epoch: 4 [19200/60000 (32%)]\tLoss: 0.504714\n",
            "Train Epoch: 4 [25600/60000 (43%)]\tLoss: 0.568907\n",
            "Train Epoch: 4 [32000/60000 (53%)]\tLoss: 0.408209\n",
            "Train Epoch: 4 [38400/60000 (64%)]\tLoss: 0.518378\n",
            "Train Epoch: 4 [44800/60000 (75%)]\tLoss: 0.145960\n",
            "Train Epoch: 4 [51200/60000 (85%)]\tLoss: 0.136041\n",
            "Train Epoch: 4 [57600/60000 (96%)]\tLoss: 0.599338\n",
            "\n",
            "Validation set: Average loss: 0.1874, Accuracy: 9429/10000 (94%)\n",
            "\n",
            "Train Epoch: 5 [0/60000 (0%)]\tLoss: 0.613363\n",
            "Train Epoch: 5 [6400/60000 (11%)]\tLoss: 0.158436\n",
            "Train Epoch: 5 [12800/60000 (21%)]\tLoss: 0.342164\n",
            "Train Epoch: 5 [19200/60000 (32%)]\tLoss: 0.270168\n",
            "Train Epoch: 5 [25600/60000 (43%)]\tLoss: 0.151300\n",
            "Train Epoch: 5 [32000/60000 (53%)]\tLoss: 0.106441\n",
            "Train Epoch: 5 [38400/60000 (64%)]\tLoss: 0.204138\n",
            "Train Epoch: 5 [44800/60000 (75%)]\tLoss: 0.228795\n",
            "Train Epoch: 5 [51200/60000 (85%)]\tLoss: 0.197729\n",
            "Train Epoch: 5 [57600/60000 (96%)]\tLoss: 0.313384\n",
            "\n",
            "Validation set: Average loss: 0.1643, Accuracy: 9490/10000 (95%)\n",
            "\n",
            "Train Epoch: 6 [0/60000 (0%)]\tLoss: 0.177301\n",
            "Train Epoch: 6 [6400/60000 (11%)]\tLoss: 0.126004\n",
            "Train Epoch: 6 [12800/60000 (21%)]\tLoss: 0.329052\n",
            "Train Epoch: 6 [19200/60000 (32%)]\tLoss: 0.235549\n",
            "Train Epoch: 6 [25600/60000 (43%)]\tLoss: 0.156158\n",
            "Train Epoch: 6 [32000/60000 (53%)]\tLoss: 0.474813\n",
            "Train Epoch: 6 [38400/60000 (64%)]\tLoss: 0.142926\n",
            "Train Epoch: 6 [44800/60000 (75%)]\tLoss: 0.283969\n",
            "Train Epoch: 6 [51200/60000 (85%)]\tLoss: 0.181089\n",
            "Train Epoch: 6 [57600/60000 (96%)]\tLoss: 0.179640\n",
            "\n",
            "Validation set: Average loss: 0.1513, Accuracy: 9525/10000 (95%)\n",
            "\n",
            "Train Epoch: 7 [0/60000 (0%)]\tLoss: 0.341150\n",
            "Train Epoch: 7 [6400/60000 (11%)]\tLoss: 0.269949\n",
            "Train Epoch: 7 [12800/60000 (21%)]\tLoss: 0.083602\n",
            "Train Epoch: 7 [19200/60000 (32%)]\tLoss: 0.108097\n",
            "Train Epoch: 7 [25600/60000 (43%)]\tLoss: 0.189427\n",
            "Train Epoch: 7 [32000/60000 (53%)]\tLoss: 0.103591\n",
            "Train Epoch: 7 [38400/60000 (64%)]\tLoss: 0.368226\n",
            "Train Epoch: 7 [44800/60000 (75%)]\tLoss: 0.122431\n",
            "Train Epoch: 7 [51200/60000 (85%)]\tLoss: 0.243068\n",
            "Train Epoch: 7 [57600/60000 (96%)]\tLoss: 0.440047\n",
            "\n",
            "Validation set: Average loss: 0.1393, Accuracy: 9576/10000 (96%)\n",
            "\n",
            "Train Epoch: 8 [0/60000 (0%)]\tLoss: 0.080086\n",
            "Train Epoch: 8 [6400/60000 (11%)]\tLoss: 0.126795\n",
            "Train Epoch: 8 [12800/60000 (21%)]\tLoss: 0.089617\n",
            "Train Epoch: 8 [19200/60000 (32%)]\tLoss: 0.125791\n",
            "Train Epoch: 8 [25600/60000 (43%)]\tLoss: 0.383857\n",
            "Train Epoch: 8 [32000/60000 (53%)]\tLoss: 0.090088\n",
            "Train Epoch: 8 [38400/60000 (64%)]\tLoss: 0.147959\n",
            "Train Epoch: 8 [44800/60000 (75%)]\tLoss: 0.095495\n",
            "Train Epoch: 8 [51200/60000 (85%)]\tLoss: 0.151751\n",
            "Train Epoch: 8 [57600/60000 (96%)]\tLoss: 0.168326\n",
            "\n",
            "Validation set: Average loss: 0.1310, Accuracy: 9593/10000 (96%)\n",
            "\n",
            "Train Epoch: 9 [0/60000 (0%)]\tLoss: 0.261073\n",
            "Train Epoch: 9 [6400/60000 (11%)]\tLoss: 0.219867\n",
            "Train Epoch: 9 [12800/60000 (21%)]\tLoss: 0.067040\n",
            "Train Epoch: 9 [19200/60000 (32%)]\tLoss: 0.098456\n",
            "Train Epoch: 9 [25600/60000 (43%)]\tLoss: 0.610087\n",
            "Train Epoch: 9 [32000/60000 (53%)]\tLoss: 0.059892\n",
            "Train Epoch: 9 [38400/60000 (64%)]\tLoss: 0.176246\n",
            "Train Epoch: 9 [44800/60000 (75%)]\tLoss: 0.124107\n",
            "Train Epoch: 9 [51200/60000 (85%)]\tLoss: 0.124772\n",
            "Train Epoch: 9 [57600/60000 (96%)]\tLoss: 0.063726\n",
            "\n",
            "Validation set: Average loss: 0.1294, Accuracy: 9606/10000 (96%)\n",
            "\n",
            "Train Epoch: 10 [0/60000 (0%)]\tLoss: 0.355009\n",
            "Train Epoch: 10 [6400/60000 (11%)]\tLoss: 0.413738\n",
            "Train Epoch: 10 [12800/60000 (21%)]\tLoss: 0.265700\n",
            "Train Epoch: 10 [19200/60000 (32%)]\tLoss: 0.371496\n",
            "Train Epoch: 10 [25600/60000 (43%)]\tLoss: 0.051766\n",
            "Train Epoch: 10 [32000/60000 (53%)]\tLoss: 0.260910\n",
            "Train Epoch: 10 [38400/60000 (64%)]\tLoss: 0.203466\n",
            "Train Epoch: 10 [44800/60000 (75%)]\tLoss: 0.367112\n",
            "Train Epoch: 10 [51200/60000 (85%)]\tLoss: 0.039340\n",
            "Train Epoch: 10 [57600/60000 (96%)]\tLoss: 0.175411\n",
            "\n",
            "Validation set: Average loss: 0.1206, Accuracy: 9631/10000 (96%)\n",
            "\n",
            "CPU times: total: 2min\n",
            "Wall time: 1min 33s\n"
          ]
        }
      ],
      "source": [
        "%%time\n",
        "epochs = 10\n",
        "\n",
        "lossv, accv = [], []\n",
        "for epoch in range(1, epochs + 1):\n",
        "    train(model,optimizer,epoch)\n",
        "    validate(model,lossv, accv)"
      ]
    },
    {
      "cell_type": "markdown",
      "metadata": {
        "id": "_XhwyPto_A1D"
      },
      "source": [
        "Let's now visualize how the training progressed.\n",
        "\n",
        "* *Loss* is a function of the difference of the network output and the target values.  We are minimizing the loss function during training so it should decrease over time.\n",
        "* *Accuracy* is the classification accuracy for the test data."
      ]
    },
    {
      "cell_type": "code",
      "execution_count": 9,
      "metadata": {
        "colab": {
          "base_uri": "https://localhost:8080/",
          "height": 611
        },
        "id": "mC3m1zTK_A1D",
        "outputId": "3d789883-2925-409a-8537-08ec97a195c8"
      },
      "outputs": [
        {
          "data": {
            "image/png": "[encoded data removed]",
            "text/plain": [
              "<Figure size 1000x100 with 10 Axes>"
            ]
          },
          "metadata": {},
          "output_type": "display_data"
        },
        {
          "data": {
            "image/png": "[encoded data removed]",
            "text/plain": [
              "<Figure size 500x300 with 1 Axes>"
            ]
          },
          "metadata": {},
          "output_type": "display_data"
        },
        {
          "data": {
            "image/png": "[encoded data removed]",
            "text/plain": [
              "<Figure size 500x300 with 1 Axes>"
            ]
          },
          "metadata": {},
          "output_type": "display_data"
        }
      ],
      "source": [
        "plt.figure(figsize=(5,3))\n",
        "plt.plot(np.arange(1,epochs+1), lossv)\n",
        "plt.title('validation loss')\n",
        "\n",
        "plt.figure(figsize=(5,3))\n",
        "plt.plot(np.arange(1,epochs+1), accv)\n",
        "plt.title('validation accuracy')\n",
        "plt.show()"
      ]
    },
    {
      "cell_type": "markdown",
      "metadata": {
        "id": "WZRi7neO_A1D"
      },
      "source": [
        "## Model tuning\n",
        "\n",
        "Modify the MLP model.  Try to improve the classification accuracy\n"
      ]
    },
    {
      "cell_type": "markdown",
      "metadata": {
        "id": "oIsCiKdHwkOu"
      },
      "source": [
        "## Proposta Modelo 1"
      ]
    },
    {
      "cell_type": "code",
      "execution_count": 10,
      "metadata": {
        "id": "jrfbY8MYwuN_"
      },
      "outputs": [
        {
          "name": "stdout",
          "output_type": "stream",
          "text": [
            "Net1(\n",
            "  (norm): BatchNorm2d(1, eps=1e-05, momentum=0.1, affine=True, track_running_stats=True)\n",
            "  (pad): ZeroPad2d((1, 1, 1, 1))\n",
            "  (fc1): Linear(in_features=900, out_features=50, bias=True)\n",
            "  (fc1_drop): Dropout(p=0.2, inplace=False)\n",
            "  (fc2): Linear(in_features=50, out_features=50, bias=True)\n",
            "  (fc2_drop): Dropout(p=0.2, inplace=False)\n",
            "  (fc3): Linear(in_features=50, out_features=10, bias=True)\n",
            ")\n"
          ]
        }
      ],
      "source": [
        "class Net1(nn.Module):\n",
        "    def __init__(self):\n",
        "        super(Net1, self).__init__()\n",
        "        # Camada de normalização\n",
        "        self.norm = nn.BatchNorm2d(1)\n",
        "        # Aplica Zero Padding --> Colocando 0's nas bordas da imagem\n",
        "        self.pad = nn.ZeroPad2d(1)\n",
        "        self.fc1 = nn.Linear((28+2)*(28+2), 50) # Aumenta linha e coluna por causa do padding\n",
        "        self.fc1_drop = nn.Dropout(0.2)\n",
        "        self.fc2 = nn.Linear(50, 50)\n",
        "        self.fc2_drop = nn.Dropout(0.2)\n",
        "        self.fc3 = nn.Linear(50, 10)\n",
        "\n",
        "    def forward(self, x):\n",
        "        # Garante formato [batch_size, C, H, W] com C=1 --> devido ao BatchNorm2d\n",
        "        if x.dim() == 3:            # [batch_size, H, W]\n",
        "            x = x.unsqueeze(1)      # [batch_size, 1, H, W]\n",
        "        # Aplica o padding\n",
        "        x = self.pad(x)             # [batch_size, 1, 30, 30]\n",
        "        # Aplica a normalização\n",
        "        x = self.norm(x)\n",
        "        # Continua o mesmo processo\n",
        "        x = torch.flatten(x, 1)     # [batch_size, 30*30] --> Mesma coisa que x.view(-1, 30*30)\n",
        "        x = F.relu(self.fc1(x))\n",
        "        x = self.fc1_drop(x)\n",
        "        x = F.relu(self.fc2(x))\n",
        "        x = self.fc2_drop(x)\n",
        "        return self.fc3(x)\n",
        "\n",
        "model1 = Net1().to(device)\n",
        "optimizer1 = torch.optim.SGD(model1.parameters(), lr=0.01, momentum=0.5)\n",
        "criterion = nn.CrossEntropyLoss()\n",
        "print(model1)"
      ]
    },
    {
      "cell_type": "code",
      "execution_count": 11,
      "metadata": {},
      "outputs": [
        {
          "name": "stdout",
          "output_type": "stream",
          "text": [
            "Train Epoch: 1 [0/60000 (0%)]\tLoss: 2.311732\n",
            "Train Epoch: 1 [6400/60000 (11%)]\tLoss: 0.574511\n",
            "Train Epoch: 1 [12800/60000 (21%)]\tLoss: 0.886172\n",
            "Train Epoch: 1 [19200/60000 (32%)]\tLoss: 0.247829\n",
            "Train Epoch: 1 [25600/60000 (43%)]\tLoss: 0.279294\n",
            "Train Epoch: 1 [32000/60000 (53%)]\tLoss: 0.236758\n",
            "Train Epoch: 1 [38400/60000 (64%)]\tLoss: 0.261879\n",
            "Train Epoch: 1 [44800/60000 (75%)]\tLoss: 0.555884\n",
            "Train Epoch: 1 [51200/60000 (85%)]\tLoss: 0.297161\n",
            "Train Epoch: 1 [57600/60000 (96%)]\tLoss: 0.171264\n",
            "\n",
            "Validation set: Average loss: 0.1924, Accuracy: 9406/10000 (94%)\n",
            "\n",
            "Train Epoch: 2 [0/60000 (0%)]\tLoss: 0.388951\n",
            "Train Epoch: 2 [6400/60000 (11%)]\tLoss: 0.353847\n",
            "Train Epoch: 2 [12800/60000 (21%)]\tLoss: 0.165521\n",
            "Train Epoch: 2 [19200/60000 (32%)]\tLoss: 0.371644\n",
            "Train Epoch: 2 [25600/60000 (43%)]\tLoss: 0.197301\n",
            "Train Epoch: 2 [32000/60000 (53%)]\tLoss: 0.285641\n",
            "Train Epoch: 2 [38400/60000 (64%)]\tLoss: 0.090287\n",
            "Train Epoch: 2 [44800/60000 (75%)]\tLoss: 0.097960\n",
            "Train Epoch: 2 [51200/60000 (85%)]\tLoss: 0.119788\n",
            "Train Epoch: 2 [57600/60000 (96%)]\tLoss: 0.237255\n",
            "\n",
            "Validation set: Average loss: 0.1466, Accuracy: 9546/10000 (95%)\n",
            "\n",
            "Train Epoch: 3 [0/60000 (0%)]\tLoss: 0.197937\n",
            "Train Epoch: 3 [6400/60000 (11%)]\tLoss: 0.223893\n",
            "Train Epoch: 3 [12800/60000 (21%)]\tLoss: 0.020628\n",
            "Train Epoch: 3 [19200/60000 (32%)]\tLoss: 0.130301\n",
            "Train Epoch: 3 [25600/60000 (43%)]\tLoss: 0.217593\n",
            "Train Epoch: 3 [32000/60000 (53%)]\tLoss: 0.388560\n",
            "Train Epoch: 3 [38400/60000 (64%)]\tLoss: 0.428847\n",
            "Train Epoch: 3 [44800/60000 (75%)]\tLoss: 0.227083\n",
            "Train Epoch: 3 [51200/60000 (85%)]\tLoss: 0.503874\n",
            "Train Epoch: 3 [57600/60000 (96%)]\tLoss: 0.190162\n",
            "\n",
            "Validation set: Average loss: 0.1355, Accuracy: 9570/10000 (96%)\n",
            "\n",
            "Train Epoch: 4 [0/60000 (0%)]\tLoss: 0.237211\n",
            "Train Epoch: 4 [6400/60000 (11%)]\tLoss: 0.220757\n",
            "Train Epoch: 4 [12800/60000 (21%)]\tLoss: 0.095732\n",
            "Train Epoch: 4 [19200/60000 (32%)]\tLoss: 0.103095\n",
            "Train Epoch: 4 [25600/60000 (43%)]\tLoss: 0.079504\n",
            "Train Epoch: 4 [32000/60000 (53%)]\tLoss: 0.117894\n",
            "Train Epoch: 4 [38400/60000 (64%)]\tLoss: 0.210832\n",
            "Train Epoch: 4 [44800/60000 (75%)]\tLoss: 0.056351\n",
            "Train Epoch: 4 [51200/60000 (85%)]\tLoss: 0.160284\n",
            "Train Epoch: 4 [57600/60000 (96%)]\tLoss: 0.288106\n",
            "\n",
            "Validation set: Average loss: 0.1191, Accuracy: 9645/10000 (96%)\n",
            "\n",
            "Train Epoch: 5 [0/60000 (0%)]\tLoss: 0.159778\n",
            "Train Epoch: 5 [6400/60000 (11%)]\tLoss: 0.033853\n",
            "Train Epoch: 5 [12800/60000 (21%)]\tLoss: 0.241978\n",
            "Train Epoch: 5 [19200/60000 (32%)]\tLoss: 0.078616\n",
            "Train Epoch: 5 [25600/60000 (43%)]\tLoss: 0.137646\n",
            "Train Epoch: 5 [32000/60000 (53%)]\tLoss: 0.127857\n",
            "Train Epoch: 5 [38400/60000 (64%)]\tLoss: 0.141455\n",
            "Train Epoch: 5 [44800/60000 (75%)]\tLoss: 0.280535\n",
            "Train Epoch: 5 [51200/60000 (85%)]\tLoss: 0.134810\n",
            "Train Epoch: 5 [57600/60000 (96%)]\tLoss: 0.146332\n",
            "\n",
            "Validation set: Average loss: 0.1133, Accuracy: 9664/10000 (97%)\n",
            "\n",
            "Train Epoch: 6 [0/60000 (0%)]\tLoss: 0.085048\n",
            "Train Epoch: 6 [6400/60000 (11%)]\tLoss: 0.410449\n",
            "Train Epoch: 6 [12800/60000 (21%)]\tLoss: 0.122062\n",
            "Train Epoch: 6 [19200/60000 (32%)]\tLoss: 0.104203\n",
            "Train Epoch: 6 [25600/60000 (43%)]\tLoss: 0.030182\n",
            "Train Epoch: 6 [32000/60000 (53%)]\tLoss: 0.082308\n",
            "Train Epoch: 6 [38400/60000 (64%)]\tLoss: 0.117172\n",
            "Train Epoch: 6 [44800/60000 (75%)]\tLoss: 0.084836\n",
            "Train Epoch: 6 [51200/60000 (85%)]\tLoss: 0.243078\n",
            "Train Epoch: 6 [57600/60000 (96%)]\tLoss: 0.110832\n",
            "\n",
            "Validation set: Average loss: 0.1104, Accuracy: 9677/10000 (97%)\n",
            "\n",
            "Train Epoch: 7 [0/60000 (0%)]\tLoss: 0.053048\n",
            "Train Epoch: 7 [6400/60000 (11%)]\tLoss: 0.034307\n",
            "Train Epoch: 7 [12800/60000 (21%)]\tLoss: 0.190642\n",
            "Train Epoch: 7 [19200/60000 (32%)]\tLoss: 0.203378\n",
            "Train Epoch: 7 [25600/60000 (43%)]\tLoss: 0.061147\n",
            "Train Epoch: 7 [32000/60000 (53%)]\tLoss: 0.215712\n",
            "Train Epoch: 7 [38400/60000 (64%)]\tLoss: 0.069275\n",
            "Train Epoch: 7 [44800/60000 (75%)]\tLoss: 0.182373\n",
            "Train Epoch: 7 [51200/60000 (85%)]\tLoss: 0.115844\n",
            "Train Epoch: 7 [57600/60000 (96%)]\tLoss: 0.131490\n",
            "\n",
            "Validation set: Average loss: 0.1062, Accuracy: 9691/10000 (97%)\n",
            "\n",
            "Train Epoch: 8 [0/60000 (0%)]\tLoss: 0.143840\n",
            "Train Epoch: 8 [6400/60000 (11%)]\tLoss: 0.035125\n",
            "Train Epoch: 8 [12800/60000 (21%)]\tLoss: 0.388098\n",
            "Train Epoch: 8 [19200/60000 (32%)]\tLoss: 0.037428\n",
            "Train Epoch: 8 [25600/60000 (43%)]\tLoss: 0.369781\n",
            "Train Epoch: 8 [32000/60000 (53%)]\tLoss: 0.094126\n",
            "Train Epoch: 8 [38400/60000 (64%)]\tLoss: 0.312983\n",
            "Train Epoch: 8 [44800/60000 (75%)]\tLoss: 0.186670\n",
            "Train Epoch: 8 [51200/60000 (85%)]\tLoss: 0.092232\n",
            "Train Epoch: 8 [57600/60000 (96%)]\tLoss: 0.064757\n",
            "\n",
            "Validation set: Average loss: 0.1063, Accuracy: 9690/10000 (97%)\n",
            "\n",
            "Train Epoch: 9 [0/60000 (0%)]\tLoss: 0.042502\n",
            "Train Epoch: 9 [6400/60000 (11%)]\tLoss: 0.110853\n",
            "Train Epoch: 9 [12800/60000 (21%)]\tLoss: 0.181630\n",
            "Train Epoch: 9 [19200/60000 (32%)]\tLoss: 0.134206\n",
            "Train Epoch: 9 [25600/60000 (43%)]\tLoss: 0.101783\n",
            "Train Epoch: 9 [32000/60000 (53%)]\tLoss: 0.044778\n",
            "Train Epoch: 9 [38400/60000 (64%)]\tLoss: 0.131630\n",
            "Train Epoch: 9 [44800/60000 (75%)]\tLoss: 0.266646\n",
            "Train Epoch: 9 [51200/60000 (85%)]\tLoss: 0.122691\n",
            "Train Epoch: 9 [57600/60000 (96%)]\tLoss: 0.023705\n",
            "\n",
            "Validation set: Average loss: 0.0980, Accuracy: 9714/10000 (97%)\n",
            "\n",
            "Train Epoch: 10 [0/60000 (0%)]\tLoss: 0.114166\n",
            "Train Epoch: 10 [6400/60000 (11%)]\tLoss: 0.161617\n",
            "Train Epoch: 10 [12800/60000 (21%)]\tLoss: 0.112590\n",
            "Train Epoch: 10 [19200/60000 (32%)]\tLoss: 0.099159\n",
            "Train Epoch: 10 [25600/60000 (43%)]\tLoss: 0.100572\n",
            "Train Epoch: 10 [32000/60000 (53%)]\tLoss: 0.080227\n",
            "Train Epoch: 10 [38400/60000 (64%)]\tLoss: 0.215202\n",
            "Train Epoch: 10 [44800/60000 (75%)]\tLoss: 0.108872\n",
            "Train Epoch: 10 [51200/60000 (85%)]\tLoss: 0.211581\n",
            "Train Epoch: 10 [57600/60000 (96%)]\tLoss: 0.069282\n",
            "\n",
            "Validation set: Average loss: 0.0972, Accuracy: 9710/10000 (97%)\n",
            "\n",
            "CPU times: total: 2min\n",
            "Wall time: 1min 33s\n"
          ]
        }
      ],
      "source": [
        "%%time\n",
        "epochs = 10\n",
        "\n",
        "lossv, accv = [], []\n",
        "for epoch in range(1, epochs + 1):\n",
        "    train(model1,optimizer1,epoch)\n",
        "    validate(model1,lossv, accv)"
      ]
    },
    {
      "cell_type": "code",
      "execution_count": 12,
      "metadata": {},
      "outputs": [
        {
          "data": {
            "image/png": "[encoded data removed]",
            "text/plain": [
              "<Figure size 500x300 with 1 Axes>"
            ]
          },
          "metadata": {},
          "output_type": "display_data"
        },
        {
          "data": {
            "image/png": "[encoded data removed]",
            "text/plain": [
              "<Figure size 500x300 with 1 Axes>"
            ]
          },
          "metadata": {},
          "output_type": "display_data"
        }
      ],
      "source": [
        "plt.figure(figsize=(5,3))\n",
        "plt.plot(np.arange(1,epochs+1), lossv)\n",
        "plt.title('validation loss')\n",
        "\n",
        "plt.figure(figsize=(5,3))\n",
        "plt.plot(np.arange(1,epochs+1), accv)\n",
        "plt.title('validation accuracy')\n",
        "plt.show()"
      ]
    },
    {
      "cell_type": "markdown",
      "metadata": {},
      "source": [
        "## Proposta Modelo 2"
      ]
    },
    {
      "cell_type": "code",
      "execution_count": 13,
      "metadata": {},
      "outputs": [
        {
          "name": "stdout",
          "output_type": "stream",
          "text": [
            "Net2(\n",
            "  (fc1): Linear(in_features=784, out_features=392, bias=True)\n",
            "  (fc1_drop): Dropout(p=0.2, inplace=False)\n",
            "  (fc2): Linear(in_features=392, out_features=196, bias=True)\n",
            "  (fc2_drop): Dropout(p=0.2, inplace=False)\n",
            "  (fc3): Linear(in_features=196, out_features=50, bias=True)\n",
            "  (fc3_drop): Dropout(p=0.2, inplace=False)\n",
            "  (fc4): Linear(in_features=50, out_features=10, bias=True)\n",
            ")\n"
          ]
        }
      ],
      "source": [
        "class Net2(nn.Module):\n",
        "    def __init__(self):\n",
        "        super(Net2, self).__init__()\n",
        "        # Criar mais camadas e com mais neurônios\n",
        "        self.fc1 = nn.Linear(28*28, (28*28)//2)\n",
        "        self.fc1_drop = nn.Dropout(0.2)\n",
        "        # Divide novamente por 2 o número de neurônios com base no tamanho da imagem\n",
        "        self.fc2 = nn.Linear((28*28)//2, (28*28)//4)\n",
        "        self.fc2_drop = nn.Dropout(0.2)\n",
        "        # Volta para estrutura anterior\n",
        "        self.fc3 = nn.Linear((28*28)//4, 50)\n",
        "        self.fc3_drop = nn.Dropout(0.2)\n",
        "        self.fc4 = nn.Linear(50, 10)\n",
        "\n",
        "    def forward(self, x):\n",
        "        x = x.view(-1, 28*28)\n",
        "        x = F.relu(self.fc1(x))\n",
        "        x = self.fc1_drop(x)\n",
        "        x = F.relu(self.fc2(x))\n",
        "        x = self.fc2_drop(x)\n",
        "        x = F.relu(self.fc3(x))\n",
        "        x = self.fc3_drop(x)\n",
        "        return F.log_softmax(self.fc4(x), dim=1)\n",
        "\n",
        "model2 = Net2().to(device)\n",
        "optimizer2 = torch.optim.SGD(model2.parameters(), lr=0.01, momentum=0.5)\n",
        "criterion = nn.CrossEntropyLoss()\n",
        "print(model2)"
      ]
    },
    {
      "cell_type": "code",
      "execution_count": 14,
      "metadata": {},
      "outputs": [
        {
          "name": "stdout",
          "output_type": "stream",
          "text": [
            "Train Epoch: 1 [0/60000 (0%)]\tLoss: 2.307171\n",
            "Train Epoch: 1 [6400/60000 (11%)]\tLoss: 2.266817\n",
            "Train Epoch: 1 [12800/60000 (21%)]\tLoss: 2.166111\n",
            "Train Epoch: 1 [19200/60000 (32%)]\tLoss: 1.543718\n",
            "Train Epoch: 1 [25600/60000 (43%)]\tLoss: 0.994174\n",
            "Train Epoch: 1 [32000/60000 (53%)]\tLoss: 0.585435\n",
            "Train Epoch: 1 [38400/60000 (64%)]\tLoss: 0.530072\n",
            "Train Epoch: 1 [44800/60000 (75%)]\tLoss: 0.563796\n",
            "Train Epoch: 1 [51200/60000 (85%)]\tLoss: 0.288804\n",
            "Train Epoch: 1 [57600/60000 (96%)]\tLoss: 0.455918\n",
            "\n",
            "Validation set: Average loss: 0.3625, Accuracy: 8943/10000 (89%)\n",
            "\n",
            "Train Epoch: 2 [0/60000 (0%)]\tLoss: 0.408852\n",
            "Train Epoch: 2 [6400/60000 (11%)]\tLoss: 0.570961\n",
            "Train Epoch: 2 [12800/60000 (21%)]\tLoss: 0.385925\n",
            "Train Epoch: 2 [19200/60000 (32%)]\tLoss: 0.205977\n",
            "Train Epoch: 2 [25600/60000 (43%)]\tLoss: 0.477877\n",
            "Train Epoch: 2 [32000/60000 (53%)]\tLoss: 0.260614\n",
            "Train Epoch: 2 [38400/60000 (64%)]\tLoss: 0.338440\n",
            "Train Epoch: 2 [44800/60000 (75%)]\tLoss: 0.395252\n",
            "Train Epoch: 2 [51200/60000 (85%)]\tLoss: 0.178623\n",
            "Train Epoch: 2 [57600/60000 (96%)]\tLoss: 0.451149\n",
            "\n",
            "Validation set: Average loss: 0.2173, Accuracy: 9365/10000 (94%)\n",
            "\n",
            "Train Epoch: 3 [0/60000 (0%)]\tLoss: 0.504326\n",
            "Train Epoch: 3 [6400/60000 (11%)]\tLoss: 0.319631\n",
            "Train Epoch: 3 [12800/60000 (21%)]\tLoss: 0.232882\n",
            "Train Epoch: 3 [19200/60000 (32%)]\tLoss: 0.099632\n",
            "Train Epoch: 3 [25600/60000 (43%)]\tLoss: 0.255614\n",
            "Train Epoch: 3 [32000/60000 (53%)]\tLoss: 0.302535\n",
            "Train Epoch: 3 [38400/60000 (64%)]\tLoss: 0.057516\n",
            "Train Epoch: 3 [44800/60000 (75%)]\tLoss: 0.334761\n",
            "Train Epoch: 3 [51200/60000 (85%)]\tLoss: 0.234945\n",
            "Train Epoch: 3 [57600/60000 (96%)]\tLoss: 0.281946\n",
            "\n",
            "Validation set: Average loss: 0.1574, Accuracy: 9541/10000 (95%)\n",
            "\n",
            "Train Epoch: 4 [0/60000 (0%)]\tLoss: 0.211422\n",
            "Train Epoch: 4 [6400/60000 (11%)]\tLoss: 0.162299\n",
            "Train Epoch: 4 [12800/60000 (21%)]\tLoss: 0.515571\n",
            "Train Epoch: 4 [19200/60000 (32%)]\tLoss: 0.299592\n",
            "Train Epoch: 4 [25600/60000 (43%)]\tLoss: 0.418658\n",
            "Train Epoch: 4 [32000/60000 (53%)]\tLoss: 0.211065\n",
            "Train Epoch: 4 [38400/60000 (64%)]\tLoss: 0.249936\n",
            "Train Epoch: 4 [44800/60000 (75%)]\tLoss: 0.140793\n",
            "Train Epoch: 4 [51200/60000 (85%)]\tLoss: 0.118307\n",
            "Train Epoch: 4 [57600/60000 (96%)]\tLoss: 0.189880\n",
            "\n",
            "Validation set: Average loss: 0.1282, Accuracy: 9616/10000 (96%)\n",
            "\n",
            "Train Epoch: 5 [0/60000 (0%)]\tLoss: 0.218568\n",
            "Train Epoch: 5 [6400/60000 (11%)]\tLoss: 0.176073\n",
            "Train Epoch: 5 [12800/60000 (21%)]\tLoss: 0.201591\n",
            "Train Epoch: 5 [19200/60000 (32%)]\tLoss: 0.160890\n",
            "Train Epoch: 5 [25600/60000 (43%)]\tLoss: 0.192805\n",
            "Train Epoch: 5 [32000/60000 (53%)]\tLoss: 0.157731\n",
            "Train Epoch: 5 [38400/60000 (64%)]\tLoss: 0.221983\n",
            "Train Epoch: 5 [44800/60000 (75%)]\tLoss: 0.113320\n",
            "Train Epoch: 5 [51200/60000 (85%)]\tLoss: 0.334616\n",
            "Train Epoch: 5 [57600/60000 (96%)]\tLoss: 0.286802\n",
            "\n",
            "Validation set: Average loss: 0.1074, Accuracy: 9678/10000 (97%)\n",
            "\n",
            "Train Epoch: 6 [0/60000 (0%)]\tLoss: 0.409272\n",
            "Train Epoch: 6 [6400/60000 (11%)]\tLoss: 0.186759\n",
            "Train Epoch: 6 [12800/60000 (21%)]\tLoss: 0.171316\n",
            "Train Epoch: 6 [19200/60000 (32%)]\tLoss: 0.134124\n",
            "Train Epoch: 6 [25600/60000 (43%)]\tLoss: 0.094593\n",
            "Train Epoch: 6 [32000/60000 (53%)]\tLoss: 0.013244\n",
            "Train Epoch: 6 [38400/60000 (64%)]\tLoss: 0.060320\n",
            "Train Epoch: 6 [44800/60000 (75%)]\tLoss: 0.024111\n",
            "Train Epoch: 6 [51200/60000 (85%)]\tLoss: 0.063888\n",
            "Train Epoch: 6 [57600/60000 (96%)]\tLoss: 0.026563\n",
            "\n",
            "Validation set: Average loss: 0.0999, Accuracy: 9694/10000 (97%)\n",
            "\n",
            "Train Epoch: 7 [0/60000 (0%)]\tLoss: 0.030551\n",
            "Train Epoch: 7 [6400/60000 (11%)]\tLoss: 0.273819\n",
            "Train Epoch: 7 [12800/60000 (21%)]\tLoss: 0.088353\n",
            "Train Epoch: 7 [19200/60000 (32%)]\tLoss: 0.194671\n",
            "Train Epoch: 7 [25600/60000 (43%)]\tLoss: 0.165899\n",
            "Train Epoch: 7 [32000/60000 (53%)]\tLoss: 0.034639\n",
            "Train Epoch: 7 [38400/60000 (64%)]\tLoss: 0.090361\n",
            "Train Epoch: 7 [44800/60000 (75%)]\tLoss: 0.069315\n",
            "Train Epoch: 7 [51200/60000 (85%)]\tLoss: 0.144834\n",
            "Train Epoch: 7 [57600/60000 (96%)]\tLoss: 0.046304\n",
            "\n",
            "Validation set: Average loss: 0.0856, Accuracy: 9739/10000 (97%)\n",
            "\n",
            "Train Epoch: 8 [0/60000 (0%)]\tLoss: 0.137025\n",
            "Train Epoch: 8 [6400/60000 (11%)]\tLoss: 0.007870\n",
            "Train Epoch: 8 [12800/60000 (21%)]\tLoss: 0.074508\n",
            "Train Epoch: 8 [19200/60000 (32%)]\tLoss: 0.021424\n",
            "Train Epoch: 8 [25600/60000 (43%)]\tLoss: 0.009322\n",
            "Train Epoch: 8 [32000/60000 (53%)]\tLoss: 0.087935\n",
            "Train Epoch: 8 [38400/60000 (64%)]\tLoss: 0.021359\n",
            "Train Epoch: 8 [44800/60000 (75%)]\tLoss: 0.123364\n",
            "Train Epoch: 8 [51200/60000 (85%)]\tLoss: 0.018563\n",
            "Train Epoch: 8 [57600/60000 (96%)]\tLoss: 0.239686\n",
            "\n",
            "Validation set: Average loss: 0.0837, Accuracy: 9746/10000 (97%)\n",
            "\n",
            "Train Epoch: 9 [0/60000 (0%)]\tLoss: 0.077163\n",
            "Train Epoch: 9 [6400/60000 (11%)]\tLoss: 0.056528\n",
            "Train Epoch: 9 [12800/60000 (21%)]\tLoss: 0.058968\n",
            "Train Epoch: 9 [19200/60000 (32%)]\tLoss: 0.171139\n",
            "Train Epoch: 9 [25600/60000 (43%)]\tLoss: 0.011549\n",
            "Train Epoch: 9 [32000/60000 (53%)]\tLoss: 0.010104\n",
            "Train Epoch: 9 [38400/60000 (64%)]\tLoss: 0.054887\n",
            "Train Epoch: 9 [44800/60000 (75%)]\tLoss: 0.089249\n",
            "Train Epoch: 9 [51200/60000 (85%)]\tLoss: 0.013151\n",
            "Train Epoch: 9 [57600/60000 (96%)]\tLoss: 0.032429\n",
            "\n",
            "Validation set: Average loss: 0.0761, Accuracy: 9774/10000 (98%)\n",
            "\n",
            "Train Epoch: 10 [0/60000 (0%)]\tLoss: 0.080614\n",
            "Train Epoch: 10 [6400/60000 (11%)]\tLoss: 0.051491\n",
            "Train Epoch: 10 [12800/60000 (21%)]\tLoss: 0.048262\n",
            "Train Epoch: 10 [19200/60000 (32%)]\tLoss: 0.016245\n",
            "Train Epoch: 10 [25600/60000 (43%)]\tLoss: 0.034082\n",
            "Train Epoch: 10 [32000/60000 (53%)]\tLoss: 0.014039\n",
            "Train Epoch: 10 [38400/60000 (64%)]\tLoss: 0.215574\n",
            "Train Epoch: 10 [44800/60000 (75%)]\tLoss: 0.045776\n",
            "Train Epoch: 10 [51200/60000 (85%)]\tLoss: 0.294751\n",
            "Train Epoch: 10 [57600/60000 (96%)]\tLoss: 0.036850\n",
            "\n",
            "Validation set: Average loss: 0.0755, Accuracy: 9765/10000 (98%)\n",
            "\n",
            "CPU times: total: 1min 57s\n",
            "Wall time: 1min 31s\n"
          ]
        }
      ],
      "source": [
        "%%time\n",
        "epochs = 10\n",
        "\n",
        "lossv, accv = [], []\n",
        "for epoch in range(1, epochs + 1):\n",
        "    train(model2,optimizer2,epoch)\n",
        "    validate(model2,lossv, accv)"
      ]
    },
    {
      "cell_type": "code",
      "execution_count": 15,
      "metadata": {},
      "outputs": [
        {
          "data": {
            "image/png": "[encoded data removed]",
            "text/plain": [
              "<Figure size 500x300 with 1 Axes>"
            ]
          },
          "metadata": {},
          "output_type": "display_data"
        },
        {
          "data": {
            "image/png": "[encoded data removed]",
            "text/plain": [
              "<Figure size 500x300 with 1 Axes>"
            ]
          },
          "metadata": {},
          "output_type": "display_data"
        }
      ],
      "source": [
        "plt.figure(figsize=(5,3))\n",
        "plt.plot(np.arange(1,epochs+1), lossv)\n",
        "plt.title('validation loss')\n",
        "\n",
        "plt.figure(figsize=(5,3))\n",
        "plt.plot(np.arange(1,epochs+1), accv)\n",
        "plt.title('validation accuracy')\n",
        "plt.show()"
      ]
    },
    {
      "cell_type": "markdown",
      "metadata": {},
      "source": [
        "## Modelo 3"
      ]
    },
    {
      "cell_type": "code",
      "execution_count": 28,
      "metadata": {},
      "outputs": [
        {
          "name": "stdout",
          "output_type": "stream",
          "text": [
            "MLP98(\n",
            "  (fc1): Linear(in_features=784, out_features=784, bias=True)\n",
            "  (bn1): BatchNorm1d(784, eps=1e-05, momentum=0.1, affine=True, track_running_stats=True)\n",
            "  (drop1): Dropout(p=0.2, inplace=False)\n",
            "  (fc2): Linear(in_features=784, out_features=256, bias=True)\n",
            "  (bn2): BatchNorm1d(256, eps=1e-05, momentum=0.1, affine=True, track_running_stats=True)\n",
            "  (drop2): Dropout(p=0.2, inplace=False)\n",
            "  (fc3): Linear(in_features=256, out_features=128, bias=True)\n",
            "  (bn3): BatchNorm1d(128, eps=1e-05, momentum=0.1, affine=True, track_running_stats=True)\n",
            "  (drop3): Dropout(p=0.2, inplace=False)\n",
            "  (fc4): Linear(in_features=128, out_features=10, bias=True)\n",
            ")\n"
          ]
        }
      ],
      "source": [
        "class MLP98(nn.Module):\n",
        "    def __init__(self):\n",
        "        super().__init__()\n",
        "        self.fc1 = nn.Linear(28*28, 784)\n",
        "        self.bn1 = nn.BatchNorm1d(784)\n",
        "        self.drop1 = nn.Dropout(0.2)\n",
        "\n",
        "        self.fc2 = nn.Linear(784, 256)\n",
        "        self.bn2 = nn.BatchNorm1d(256)\n",
        "        self.drop2 = nn.Dropout(0.2)\n",
        "\n",
        "        self.fc3 = nn.Linear(256, 128)\n",
        "        self.bn3 = nn.BatchNorm1d(128)\n",
        "        self.drop3 = nn.Dropout(0.2)\n",
        "\n",
        "        self.fc4 = nn.Linear(128, 10)  # CrossEntropyLoss inclui Softmax\n",
        "\n",
        "\n",
        "    def forward(self, x):\n",
        "        x = x.view(x.size(0), -1)      # [N, 784]\n",
        "        x = F.relu(self.bn1(self.fc1(x)))\n",
        "        x = self.drop1(x)\n",
        "        x = F.relu(self.bn2(self.fc2(x)))\n",
        "        x = self.drop2(x)\n",
        "        x = F.relu(self.bn3(self.fc3(x)))\n",
        "        x = self.drop3(x)\n",
        "        return self.fc4(x)   \n",
        "\n",
        "model3 = MLP98().to(device)\n",
        "optimizer3 = torch.optim.Adam(model3.parameters(), lr=1e-3, \n",
        "                              weight_decay=1e-4)  # Penalização L2\n",
        "criterion = nn.CrossEntropyLoss()\n",
        "print(model3)"
      ]
    },
    {
      "cell_type": "code",
      "execution_count": 29,
      "metadata": {},
      "outputs": [
        {
          "name": "stdout",
          "output_type": "stream",
          "text": [
            "Train Epoch: 1 [0/60000 (0%)]\tLoss: 2.506402\n",
            "Train Epoch: 1 [6400/60000 (11%)]\tLoss: 0.376484\n",
            "Train Epoch: 1 [12800/60000 (21%)]\tLoss: 0.115439\n",
            "Train Epoch: 1 [19200/60000 (32%)]\tLoss: 0.233738\n",
            "Train Epoch: 1 [25600/60000 (43%)]\tLoss: 0.081443\n",
            "Train Epoch: 1 [32000/60000 (53%)]\tLoss: 0.123063\n",
            "Train Epoch: 1 [38400/60000 (64%)]\tLoss: 0.152631\n",
            "Train Epoch: 1 [44800/60000 (75%)]\tLoss: 0.482004\n",
            "Train Epoch: 1 [51200/60000 (85%)]\tLoss: 0.184087\n",
            "Train Epoch: 1 [57600/60000 (96%)]\tLoss: 0.202559\n",
            "\n",
            "Validation set: Average loss: 0.1024, Accuracy: 9675/10000 (97%)\n",
            "\n",
            "Train Epoch: 2 [0/60000 (0%)]\tLoss: 0.151440\n",
            "Train Epoch: 2 [6400/60000 (11%)]\tLoss: 0.053547\n",
            "Train Epoch: 2 [12800/60000 (21%)]\tLoss: 0.040099\n",
            "Train Epoch: 2 [19200/60000 (32%)]\tLoss: 0.087407\n",
            "Train Epoch: 2 [25600/60000 (43%)]\tLoss: 0.238374\n",
            "Train Epoch: 2 [32000/60000 (53%)]\tLoss: 0.019670\n",
            "Train Epoch: 2 [38400/60000 (64%)]\tLoss: 0.250689\n",
            "Train Epoch: 2 [44800/60000 (75%)]\tLoss: 0.127026\n",
            "Train Epoch: 2 [51200/60000 (85%)]\tLoss: 0.035676\n",
            "Train Epoch: 2 [57600/60000 (96%)]\tLoss: 0.078514\n",
            "\n",
            "Validation set: Average loss: 0.0862, Accuracy: 9735/10000 (97%)\n",
            "\n",
            "Train Epoch: 3 [0/60000 (0%)]\tLoss: 0.167330\n",
            "Train Epoch: 3 [6400/60000 (11%)]\tLoss: 0.085761\n",
            "Train Epoch: 3 [12800/60000 (21%)]\tLoss: 0.032287\n",
            "Train Epoch: 3 [19200/60000 (32%)]\tLoss: 0.127235\n",
            "Train Epoch: 3 [25600/60000 (43%)]\tLoss: 0.006572\n",
            "Train Epoch: 3 [32000/60000 (53%)]\tLoss: 0.121461\n",
            "Train Epoch: 3 [38400/60000 (64%)]\tLoss: 0.066836\n",
            "Train Epoch: 3 [44800/60000 (75%)]\tLoss: 0.042658\n",
            "Train Epoch: 3 [51200/60000 (85%)]\tLoss: 0.029130\n",
            "Train Epoch: 3 [57600/60000 (96%)]\tLoss: 0.032687\n",
            "\n",
            "Validation set: Average loss: 0.0787, Accuracy: 9762/10000 (98%)\n",
            "\n",
            "Train Epoch: 4 [0/60000 (0%)]\tLoss: 0.055728\n",
            "Train Epoch: 4 [6400/60000 (11%)]\tLoss: 0.075753\n",
            "Train Epoch: 4 [12800/60000 (21%)]\tLoss: 0.026553\n",
            "Train Epoch: 4 [19200/60000 (32%)]\tLoss: 0.032901\n",
            "Train Epoch: 4 [25600/60000 (43%)]\tLoss: 0.023246\n",
            "Train Epoch: 4 [32000/60000 (53%)]\tLoss: 0.048665\n",
            "Train Epoch: 4 [38400/60000 (64%)]\tLoss: 0.036545\n",
            "Train Epoch: 4 [44800/60000 (75%)]\tLoss: 0.257352\n",
            "Train Epoch: 4 [51200/60000 (85%)]\tLoss: 0.386645\n",
            "Train Epoch: 4 [57600/60000 (96%)]\tLoss: 0.156862\n",
            "\n",
            "Validation set: Average loss: 0.0723, Accuracy: 9765/10000 (98%)\n",
            "\n",
            "Train Epoch: 5 [0/60000 (0%)]\tLoss: 0.047558\n",
            "Train Epoch: 5 [6400/60000 (11%)]\tLoss: 0.180201\n",
            "Train Epoch: 5 [12800/60000 (21%)]\tLoss: 0.017379\n",
            "Train Epoch: 5 [19200/60000 (32%)]\tLoss: 0.102189\n",
            "Train Epoch: 5 [25600/60000 (43%)]\tLoss: 0.232018\n",
            "Train Epoch: 5 [32000/60000 (53%)]\tLoss: 0.056012\n",
            "Train Epoch: 5 [38400/60000 (64%)]\tLoss: 0.358375\n",
            "Train Epoch: 5 [44800/60000 (75%)]\tLoss: 0.145987\n",
            "Train Epoch: 5 [51200/60000 (85%)]\tLoss: 0.097613\n",
            "Train Epoch: 5 [57600/60000 (96%)]\tLoss: 0.011367\n",
            "\n",
            "Validation set: Average loss: 0.0703, Accuracy: 9786/10000 (98%)\n",
            "\n",
            "Train Epoch: 6 [0/60000 (0%)]\tLoss: 0.046937\n",
            "Train Epoch: 6 [6400/60000 (11%)]\tLoss: 0.139366\n",
            "Train Epoch: 6 [12800/60000 (21%)]\tLoss: 0.002129\n",
            "Train Epoch: 6 [19200/60000 (32%)]\tLoss: 0.044124\n",
            "Train Epoch: 6 [25600/60000 (43%)]\tLoss: 0.042498\n",
            "Train Epoch: 6 [32000/60000 (53%)]\tLoss: 0.125748\n",
            "Train Epoch: 6 [38400/60000 (64%)]\tLoss: 0.442214\n",
            "Train Epoch: 6 [44800/60000 (75%)]\tLoss: 0.042999\n",
            "Train Epoch: 6 [51200/60000 (85%)]\tLoss: 0.085988\n",
            "Train Epoch: 6 [57600/60000 (96%)]\tLoss: 0.033190\n",
            "\n",
            "Validation set: Average loss: 0.0645, Accuracy: 9801/10000 (98%)\n",
            "\n",
            "Train Epoch: 7 [0/60000 (0%)]\tLoss: 0.039134\n",
            "Train Epoch: 7 [6400/60000 (11%)]\tLoss: 0.057099\n",
            "Train Epoch: 7 [12800/60000 (21%)]\tLoss: 0.096611\n",
            "Train Epoch: 7 [19200/60000 (32%)]\tLoss: 0.046023\n",
            "Train Epoch: 7 [25600/60000 (43%)]\tLoss: 0.151174\n",
            "Train Epoch: 7 [32000/60000 (53%)]\tLoss: 0.016294\n",
            "Train Epoch: 7 [38400/60000 (64%)]\tLoss: 0.052197\n",
            "Train Epoch: 7 [44800/60000 (75%)]\tLoss: 0.032500\n",
            "Train Epoch: 7 [51200/60000 (85%)]\tLoss: 0.190395\n",
            "Train Epoch: 7 [57600/60000 (96%)]\tLoss: 0.021640\n",
            "\n",
            "Validation set: Average loss: 0.0628, Accuracy: 9792/10000 (98%)\n",
            "\n",
            "Train Epoch: 8 [0/60000 (0%)]\tLoss: 0.138664\n",
            "Train Epoch: 8 [6400/60000 (11%)]\tLoss: 0.092350\n",
            "Train Epoch: 8 [12800/60000 (21%)]\tLoss: 0.082307\n",
            "Train Epoch: 8 [19200/60000 (32%)]\tLoss: 0.007938\n",
            "Train Epoch: 8 [25600/60000 (43%)]\tLoss: 0.169857\n",
            "Train Epoch: 8 [32000/60000 (53%)]\tLoss: 0.046050\n",
            "Train Epoch: 8 [38400/60000 (64%)]\tLoss: 0.077416\n",
            "Train Epoch: 8 [44800/60000 (75%)]\tLoss: 0.065908\n",
            "Train Epoch: 8 [51200/60000 (85%)]\tLoss: 0.032181\n",
            "Train Epoch: 8 [57600/60000 (96%)]\tLoss: 0.008312\n",
            "\n",
            "Validation set: Average loss: 0.0604, Accuracy: 9822/10000 (98%)\n",
            "\n",
            "Train Epoch: 9 [0/60000 (0%)]\tLoss: 0.011947\n",
            "Train Epoch: 9 [6400/60000 (11%)]\tLoss: 0.084453\n",
            "Train Epoch: 9 [12800/60000 (21%)]\tLoss: 0.020021\n",
            "Train Epoch: 9 [19200/60000 (32%)]\tLoss: 0.170865\n",
            "Train Epoch: 9 [25600/60000 (43%)]\tLoss: 0.179974\n",
            "Train Epoch: 9 [32000/60000 (53%)]\tLoss: 0.095258\n",
            "Train Epoch: 9 [38400/60000 (64%)]\tLoss: 0.052678\n",
            "Train Epoch: 9 [44800/60000 (75%)]\tLoss: 0.148082\n",
            "Train Epoch: 9 [51200/60000 (85%)]\tLoss: 0.170617\n",
            "Train Epoch: 9 [57600/60000 (96%)]\tLoss: 0.014776\n",
            "\n",
            "Validation set: Average loss: 0.0631, Accuracy: 9799/10000 (98%)\n",
            "\n",
            "Train Epoch: 10 [0/60000 (0%)]\tLoss: 0.033214\n",
            "Train Epoch: 10 [6400/60000 (11%)]\tLoss: 0.145416\n",
            "Train Epoch: 10 [12800/60000 (21%)]\tLoss: 0.177250\n",
            "Train Epoch: 10 [19200/60000 (32%)]\tLoss: 0.098067\n",
            "Train Epoch: 10 [25600/60000 (43%)]\tLoss: 0.110385\n",
            "Train Epoch: 10 [32000/60000 (53%)]\tLoss: 0.068575\n",
            "Train Epoch: 10 [38400/60000 (64%)]\tLoss: 0.068758\n",
            "Train Epoch: 10 [44800/60000 (75%)]\tLoss: 0.024674\n",
            "Train Epoch: 10 [51200/60000 (85%)]\tLoss: 0.047911\n",
            "Train Epoch: 10 [57600/60000 (96%)]\tLoss: 0.054555\n",
            "\n",
            "Validation set: Average loss: 0.0584, Accuracy: 9836/10000 (98%)\n",
            "\n",
            "CPU times: total: 2min 38s\n",
            "Wall time: 2min 22s\n"
          ]
        }
      ],
      "source": [
        "%%time\n",
        "epochs = 10\n",
        "\n",
        "lossv, accv = [], []\n",
        "for epoch in range(1, epochs + 1):\n",
        "    train(model3,optimizer3,epoch)\n",
        "    validate(model3,lossv, accv)"
      ]
    },
    {
      "cell_type": "code",
      "execution_count": 30,
      "metadata": {},
      "outputs": [
        {
          "data": {
            "image/png": "[encoded data removed]",
            "text/plain": [
              "<Figure size 500x300 with 1 Axes>"
            ]
          },
          "metadata": {},
          "output_type": "display_data"
        },
        {
          "data": {
            "image/png": "[encoded data removed]",
            "text/plain": [
              "<Figure size 500x300 with 1 Axes>"
            ]
          },
          "metadata": {},
          "output_type": "display_data"
        }
      ],
      "source": [
        "plt.figure(figsize=(5,3))\n",
        "plt.plot(np.arange(1,epochs+1), lossv)\n",
        "plt.title('validation loss')\n",
        "\n",
        "plt.figure(figsize=(5,3))\n",
        "plt.plot(np.arange(1,epochs+1), accv)\n",
        "plt.title('validation accuracy')\n",
        "plt.show()"
      ]
    }
  ],
  "metadata": {
    "accelerator": "GPU",
    "colab": {
      "gpuType": "T4",
      "provenance": []
    },
    "kernelspec": {
      "display_name": "MachineLearning",
      "language": "python",
      "name": "python3"
    },
    "language_info": {
      "codemirror_mode": {
        "name": "ipython",
        "version": 3
      },
      "file_extension": ".py",
      "mimetype": "text/x-python",
      "name": "python",
      "nbconvert_exporter": "python",
      "pygments_lexer": "ipython3",
      "version": "3.13.5"
    }
  },
  "nbformat": 4,
  "nbformat_minor": 0
}
