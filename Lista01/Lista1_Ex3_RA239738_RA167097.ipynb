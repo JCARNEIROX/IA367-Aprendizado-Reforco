{
  "cells": [
    {
      "cell_type": "markdown",
      "metadata": {
        "id": "W2J7n5f0_A00"
      },
      "source": [
        "# MNIST handwritten digits classification with MLPs\n",
        "\n",
        "In this notebook, we'll train a multi-layer perceptron model to classify MNIST digits using **PyTorch**.\n",
        "\n",
        "First, the needed imports."
      ]
    },
    {
      "cell_type": "code",
      "execution_count": 3,
      "metadata": {
        "colab": {
          "base_uri": "https://localhost:8080/"
        },
        "id": "0jSlM_cq_A05",
        "outputId": "47a79eae-b27e-4e98-ef1c-26ac4bbeef95"
      },
      "outputs": [
        {
          "name": "stdout",
          "output_type": "stream",
          "text": [
            "Using PyTorch version: 2.8.0+cu129  Device: cuda\n"
          ]
        }
      ],
      "source": [
        "%matplotlib inline\n",
        "\n",
        "import torch\n",
        "import torch.nn as nn\n",
        "import torch.nn.functional as F\n",
        "from torchvision import datasets, transforms\n",
        "\n",
        "import numpy as np\n",
        "import matplotlib.pyplot as plt\n",
        "\n",
        "if torch.cuda.is_available():\n",
        "    device = torch.device('cuda')\n",
        "else:\n",
        "    device = torch.device('cpu')\n",
        "\n",
        "print('Using PyTorch version:', torch.__version__, ' Device:', device)"
      ]
    },
    {
      "cell_type": "markdown",
      "metadata": {
        "id": "vN-qRXB5_A07"
      },
      "source": [
        "## Data\n",
        "\n",
        "Next we'll load the MNIST data.  First time we may have to download the data, which can take a while.\n",
        "\n",
        "Note that we are here using the MNIST test data for *validation*, instead of for testing the final model."
      ]
    },
    {
      "cell_type": "code",
      "execution_count": 4,
      "metadata": {
        "colab": {
          "base_uri": "https://localhost:8080/"
        },
        "id": "E0eknvgX_A07",
        "outputId": "16d23590-763a-4904-bd0e-a1c20af54657"
      },
      "outputs": [
        {
          "name": "stderr",
          "output_type": "stream",
          "text": [
            "100.0%\n",
            "100.0%\n",
            "100.0%\n",
            "100.0%\n"
          ]
        }
      ],
      "source": [
        "batch_size = 32\n",
        "\n",
        "train_dataset = datasets.MNIST('./data',\n",
        "                               train=True,\n",
        "                               download=True,\n",
        "                               transform=transforms.ToTensor())\n",
        "\n",
        "validation_dataset = datasets.MNIST('./data',\n",
        "                                    train=False,\n",
        "                                    transform=transforms.ToTensor())\n",
        "\n",
        "train_loader = torch.utils.data.DataLoader(dataset=train_dataset,\n",
        "                                           batch_size=batch_size,\n",
        "                                           shuffle=True)\n",
        "\n",
        "validation_loader = torch.utils.data.DataLoader(dataset=validation_dataset,\n",
        "                                                batch_size=batch_size,\n",
        "                                                shuffle=False)"
      ]
    },
    {
      "cell_type": "markdown",
      "metadata": {
        "id": "qEAti-0Z_A08"
      },
      "source": [
        "The train and test data are provided via data loaders that provide iterators over the datasets. The first element of training data (`X_train`) is a 4th-order tensor of size (`batch_size`, 1, 28, 28), i.e. it consists of a batch of images of size 1x28x28 pixels. `y_train` is a vector containing the correct classes (\"0\", \"1\", ..., \"9\") for each training digit."
      ]
    },
    {
      "cell_type": "code",
      "execution_count": 3,
      "metadata": {
        "colab": {
          "base_uri": "https://localhost:8080/"
        },
        "id": "VzEhBaq2_A08",
        "outputId": "9abb44be-b366-44aa-a681-aeb5f3630926"
      },
      "outputs": [
        {
          "name": "stdout",
          "output_type": "stream",
          "text": [
            "X_train: torch.Size([32, 1, 28, 28]) type: torch.FloatTensor\n",
            "y_train: torch.Size([32]) type: torch.LongTensor\n"
          ]
        }
      ],
      "source": [
        "for (X_train, y_train) in train_loader:\n",
        "    print('X_train:', X_train.size(), 'type:', X_train.type())\n",
        "    print('y_train:', y_train.size(), 'type:', y_train.type())\n",
        "    break"
      ]
    },
    {
      "cell_type": "markdown",
      "metadata": {
        "id": "UmNpRLM7_A09"
      },
      "source": [
        "Here are the first 10 training digits:"
      ]
    },
    {
      "cell_type": "code",
      "execution_count": 4,
      "metadata": {
        "colab": {
          "base_uri": "https://localhost:8080/",
          "height": 125
        },
        "id": "3almTNO6_A09",
        "outputId": "62a36943-401d-47b9-b6a7-f465bd9b68c2"
      },
      "outputs": [
        {
          "data": {
            "image/png": "[encoded data removed]",
            "text/plain": [
              "<Figure size 1000x100 with 10 Axes>"
            ]
          },
          "metadata": {},
          "output_type": "display_data"
        }
      ],
      "source": [
        "pltsize=1\n",
        "plt.figure(figsize=(10*pltsize, pltsize))\n",
        "\n",
        "for i in range(10):\n",
        "    plt.subplot(1,10,i+1)\n",
        "    plt.axis('off')\n",
        "    plt.imshow(X_train[i,:,:,:].numpy().reshape(28,28), cmap=\"gray_r\")\n",
        "    plt.title('Class: '+str(y_train[i].item()))"
      ]
    },
    {
      "cell_type": "markdown",
      "metadata": {
        "id": "tKOGPFvm_A0-"
      },
      "source": [
        "## MLP network definition\n",
        "\n",
        "Let's define the network as a Python class.  We have to write the `__init__()` and `forward()` methods, and PyTorch will automatically generate a `backward()` method for computing the gradients for the backward pass.\n",
        "\n",
        "Finally, we define an optimizer to update the model parameters based on the computed gradients.  We select *stochastic gradient descent (with momentum)* as the optimization algorithm, and set *learning rate* to 0.01.  Note that there are [several different options](http://pytorch.org/docs/optim.html#algorithms) for the optimizer in PyTorch that we could use instead of *SGD*."
      ]
    },
    {
      "cell_type": "code",
      "execution_count": 5,
      "metadata": {
        "colab": {
          "base_uri": "https://localhost:8080/"
        },
        "id": "eTB5baMu_A0_",
        "outputId": "2285c84d-5395-4d36-fa07-e939680c4239"
      },
      "outputs": [
        {
          "name": "stdout",
          "output_type": "stream",
          "text": [
            "Net(\n",
            "  (fc1): Linear(in_features=784, out_features=50, bias=True)\n",
            "  (fc1_drop): Dropout(p=0.2, inplace=False)\n",
            "  (fc2): Linear(in_features=50, out_features=50, bias=True)\n",
            "  (fc2_drop): Dropout(p=0.2, inplace=False)\n",
            "  (fc3): Linear(in_features=50, out_features=10, bias=True)\n",
            ")\n"
          ]
        }
      ],
      "source": [
        "class Net(nn.Module):\n",
        "    def __init__(self):\n",
        "        super(Net, self).__init__()\n",
        "        self.fc1 = nn.Linear(28*28, 50)\n",
        "        self.fc1_drop = nn.Dropout(0.2)\n",
        "        self.fc2 = nn.Linear(50, 50)\n",
        "        self.fc2_drop = nn.Dropout(0.2)\n",
        "        self.fc3 = nn.Linear(50, 10)\n",
        "\n",
        "    def forward(self, x):\n",
        "        x = x.view(-1, 28*28)\n",
        "        x = F.relu(self.fc1(x))\n",
        "        x = self.fc1_drop(x)\n",
        "        x = F.relu(self.fc2(x))\n",
        "        x = self.fc2_drop(x)\n",
        "        return F.log_softmax(self.fc3(x), dim=1)\n",
        "\n",
        "model = Net().to(device)\n",
        "optimizer = torch.optim.SGD(model.parameters(), lr=0.01, momentum=0.5)\n",
        "criterion = nn.CrossEntropyLoss()\n",
        "\n",
        "print(model)"
      ]
    },
    {
      "cell_type": "markdown",
      "metadata": {
        "id": "lsx8LUU8_A1A"
      },
      "source": [
        "## Learning\n",
        "\n",
        "Let's now define functions to `train()` and `validate()` the model."
      ]
    },
    {
      "cell_type": "code",
      "execution_count": 6,
      "metadata": {
        "id": "Yj6Q8lJO_A1A"
      },
      "outputs": [],
      "source": [
        "def train(epoch, log_interval=200):\n",
        "    # Set model to training mode\n",
        "    model.train()\n",
        "\n",
        "    # Loop over each batch from the training set\n",
        "    for batch_idx, (data, target) in enumerate(train_loader):\n",
        "        # Copy data to GPU if needed\n",
        "        data = data.to(device)\n",
        "        target = target.to(device)\n",
        "\n",
        "        # Zero gradient buffers\n",
        "        optimizer.zero_grad()\n",
        "\n",
        "        # Pass data through the network\n",
        "        output = model(data)\n",
        "\n",
        "        # Calculate loss\n",
        "        loss = criterion(output, target)\n",
        "\n",
        "        # Backpropagate\n",
        "        loss.backward()\n",
        "\n",
        "        # Update weights\n",
        "        optimizer.step()\n",
        "\n",
        "        if batch_idx % log_interval == 0:\n",
        "            print('Train Epoch: {} [{}/{} ({:.0f}%)]\\tLoss: {:.6f}'.format(\n",
        "                epoch, batch_idx * len(data), len(train_loader.dataset),\n",
        "                100. * batch_idx / len(train_loader), loss.data.item()))"
      ]
    },
    {
      "cell_type": "code",
      "execution_count": 7,
      "metadata": {
        "id": "JBQF5pPg_A1B"
      },
      "outputs": [],
      "source": [
        "def validate(loss_vector, accuracy_vector):\n",
        "    model.eval()\n",
        "    val_loss, correct = 0, 0\n",
        "    for data, target in validation_loader:\n",
        "        data = data.to(device)\n",
        "        target = target.to(device)\n",
        "        output = model(data)\n",
        "        val_loss += criterion(output, target).data.item()\n",
        "        pred = output.data.max(1)[1] # get the index of the max log-probability\n",
        "        correct += pred.eq(target.data).cpu().sum()\n",
        "\n",
        "    val_loss /= len(validation_loader)\n",
        "    loss_vector.append(val_loss)\n",
        "\n",
        "    accuracy = 100. * correct.to(torch.float32) / len(validation_loader.dataset)\n",
        "    accuracy_vector.append(accuracy)\n",
        "\n",
        "    print('\\nValidation set: Average loss: {:.4f}, Accuracy: {}/{} ({:.0f}%)\\n'.format(\n",
        "        val_loss, correct, len(validation_loader.dataset), accuracy))\n"
      ]
    },
    {
      "cell_type": "markdown",
      "metadata": {
        "id": "0gwV4fud_A1C"
      },
      "source": [
        "Now we are ready to train our model using the `train()` function.  An *epoch* means one pass through the whole training data. After each epoch, we evaluate the model using `validate()`."
      ]
    },
    {
      "cell_type": "code",
      "execution_count": 8,
      "metadata": {
        "colab": {
          "base_uri": "https://localhost:8080/"
        },
        "id": "8zIkjGsc_A1D",
        "outputId": "a7a5153e-4672-43cc-a89d-86cdcae7c255"
      },
      "outputs": [
        {
          "name": "stdout",
          "output_type": "stream",
          "text": [
            "Train Epoch: 1 [0/60000 (0%)]\tLoss: 2.322419\n",
            "Train Epoch: 1 [6400/60000 (11%)]\tLoss: 2.215828\n",
            "Train Epoch: 1 [12800/60000 (21%)]\tLoss: 1.427176\n",
            "Train Epoch: 1 [19200/60000 (32%)]\tLoss: 1.069172\n",
            "Train Epoch: 1 [25600/60000 (43%)]\tLoss: 0.657117\n",
            "Train Epoch: 1 [32000/60000 (53%)]\tLoss: 0.558330\n",
            "Train Epoch: 1 [38400/60000 (64%)]\tLoss: 0.480717\n",
            "Train Epoch: 1 [44800/60000 (75%)]\tLoss: 0.460831\n",
            "Train Epoch: 1 [51200/60000 (85%)]\tLoss: 1.023342\n",
            "Train Epoch: 1 [57600/60000 (96%)]\tLoss: 0.460040\n",
            "\n",
            "Validation set: Average loss: 0.3593, Accuracy: 8984/10000 (90%)\n",
            "\n",
            "Train Epoch: 2 [0/60000 (0%)]\tLoss: 0.424110\n",
            "Train Epoch: 2 [6400/60000 (11%)]\tLoss: 0.557779\n",
            "Train Epoch: 2 [12800/60000 (21%)]\tLoss: 0.466453\n",
            "Train Epoch: 2 [19200/60000 (32%)]\tLoss: 0.411140\n",
            "Train Epoch: 2 [25600/60000 (43%)]\tLoss: 0.523265\n",
            "Train Epoch: 2 [32000/60000 (53%)]\tLoss: 0.315905\n",
            "Train Epoch: 2 [38400/60000 (64%)]\tLoss: 0.346033\n",
            "Train Epoch: 2 [44800/60000 (75%)]\tLoss: 0.201550\n",
            "Train Epoch: 2 [51200/60000 (85%)]\tLoss: 0.337374\n",
            "Train Epoch: 2 [57600/60000 (96%)]\tLoss: 0.222432\n",
            "\n",
            "Validation set: Average loss: 0.2532, Accuracy: 9272/10000 (93%)\n",
            "\n",
            "Train Epoch: 3 [0/60000 (0%)]\tLoss: 0.566063\n",
            "Train Epoch: 3 [6400/60000 (11%)]\tLoss: 0.266624\n",
            "Train Epoch: 3 [12800/60000 (21%)]\tLoss: 0.231699\n",
            "Train Epoch: 3 [19200/60000 (32%)]\tLoss: 0.313073\n",
            "Train Epoch: 3 [25600/60000 (43%)]\tLoss: 0.505106\n",
            "Train Epoch: 3 [32000/60000 (53%)]\tLoss: 0.485048\n",
            "Train Epoch: 3 [38400/60000 (64%)]\tLoss: 0.195418\n",
            "Train Epoch: 3 [44800/60000 (75%)]\tLoss: 0.341795\n",
            "Train Epoch: 3 [51200/60000 (85%)]\tLoss: 0.320845\n",
            "Train Epoch: 3 [57600/60000 (96%)]\tLoss: 0.230835\n",
            "\n",
            "Validation set: Average loss: 0.2082, Accuracy: 9375/10000 (94%)\n",
            "\n",
            "Train Epoch: 4 [0/60000 (0%)]\tLoss: 0.336727\n",
            "Train Epoch: 4 [6400/60000 (11%)]\tLoss: 0.175882\n",
            "Train Epoch: 4 [12800/60000 (21%)]\tLoss: 0.240993\n",
            "Train Epoch: 4 [19200/60000 (32%)]\tLoss: 0.504978\n",
            "Train Epoch: 4 [25600/60000 (43%)]\tLoss: 0.245112\n",
            "Train Epoch: 4 [32000/60000 (53%)]\tLoss: 0.425613\n",
            "Train Epoch: 4 [38400/60000 (64%)]\tLoss: 0.393973\n",
            "Train Epoch: 4 [44800/60000 (75%)]\tLoss: 0.337345\n",
            "Train Epoch: 4 [51200/60000 (85%)]\tLoss: 0.145941\n",
            "Train Epoch: 4 [57600/60000 (96%)]\tLoss: 0.126047\n",
            "\n",
            "Validation set: Average loss: 0.1829, Accuracy: 9460/10000 (95%)\n",
            "\n",
            "Train Epoch: 5 [0/60000 (0%)]\tLoss: 0.074179\n",
            "Train Epoch: 5 [6400/60000 (11%)]\tLoss: 0.151983\n",
            "Train Epoch: 5 [12800/60000 (21%)]\tLoss: 0.126864\n",
            "Train Epoch: 5 [19200/60000 (32%)]\tLoss: 0.245855\n",
            "Train Epoch: 5 [25600/60000 (43%)]\tLoss: 0.153307\n",
            "Train Epoch: 5 [32000/60000 (53%)]\tLoss: 0.170471\n",
            "Train Epoch: 5 [38400/60000 (64%)]\tLoss: 0.412329\n",
            "Train Epoch: 5 [44800/60000 (75%)]\tLoss: 0.326292\n",
            "Train Epoch: 5 [51200/60000 (85%)]\tLoss: 0.192311\n",
            "Train Epoch: 5 [57600/60000 (96%)]\tLoss: 0.182850\n",
            "\n",
            "Validation set: Average loss: 0.1605, Accuracy: 9526/10000 (95%)\n",
            "\n",
            "Train Epoch: 6 [0/60000 (0%)]\tLoss: 0.091647\n",
            "Train Epoch: 6 [6400/60000 (11%)]\tLoss: 0.126371\n",
            "Train Epoch: 6 [12800/60000 (21%)]\tLoss: 0.278274\n",
            "Train Epoch: 6 [19200/60000 (32%)]\tLoss: 0.175743\n",
            "Train Epoch: 6 [25600/60000 (43%)]\tLoss: 0.126116\n",
            "Train Epoch: 6 [32000/60000 (53%)]\tLoss: 0.315499\n",
            "Train Epoch: 6 [38400/60000 (64%)]\tLoss: 0.313067\n",
            "Train Epoch: 6 [44800/60000 (75%)]\tLoss: 0.082659\n",
            "Train Epoch: 6 [51200/60000 (85%)]\tLoss: 0.080154\n",
            "Train Epoch: 6 [57600/60000 (96%)]\tLoss: 0.059383\n",
            "\n",
            "Validation set: Average loss: 0.1520, Accuracy: 9536/10000 (95%)\n",
            "\n",
            "Train Epoch: 7 [0/60000 (0%)]\tLoss: 0.125448\n",
            "Train Epoch: 7 [6400/60000 (11%)]\tLoss: 0.092889\n",
            "Train Epoch: 7 [12800/60000 (21%)]\tLoss: 0.216587\n",
            "Train Epoch: 7 [19200/60000 (32%)]\tLoss: 0.254657\n",
            "Train Epoch: 7 [25600/60000 (43%)]\tLoss: 0.075738\n",
            "Train Epoch: 7 [32000/60000 (53%)]\tLoss: 0.280277\n",
            "Train Epoch: 7 [38400/60000 (64%)]\tLoss: 0.074424\n",
            "Train Epoch: 7 [44800/60000 (75%)]\tLoss: 0.404857\n",
            "Train Epoch: 7 [51200/60000 (85%)]\tLoss: 0.136170\n",
            "Train Epoch: 7 [57600/60000 (96%)]\tLoss: 0.337915\n",
            "\n",
            "Validation set: Average loss: 0.1377, Accuracy: 9581/10000 (96%)\n",
            "\n",
            "Train Epoch: 8 [0/60000 (0%)]\tLoss: 0.140705\n",
            "Train Epoch: 8 [6400/60000 (11%)]\tLoss: 0.170960\n",
            "Train Epoch: 8 [12800/60000 (21%)]\tLoss: 0.239995\n",
            "Train Epoch: 8 [19200/60000 (32%)]\tLoss: 0.140404\n",
            "Train Epoch: 8 [25600/60000 (43%)]\tLoss: 0.373763\n",
            "Train Epoch: 8 [32000/60000 (53%)]\tLoss: 0.115829\n",
            "Train Epoch: 8 [38400/60000 (64%)]\tLoss: 0.112948\n",
            "Train Epoch: 8 [44800/60000 (75%)]\tLoss: 0.050215\n",
            "Train Epoch: 8 [51200/60000 (85%)]\tLoss: 0.156055\n",
            "Train Epoch: 8 [57600/60000 (96%)]\tLoss: 0.221895\n",
            "\n",
            "Validation set: Average loss: 0.1312, Accuracy: 9588/10000 (96%)\n",
            "\n",
            "Train Epoch: 9 [0/60000 (0%)]\tLoss: 0.088936\n",
            "Train Epoch: 9 [6400/60000 (11%)]\tLoss: 0.108989\n",
            "Train Epoch: 9 [12800/60000 (21%)]\tLoss: 0.411025\n",
            "Train Epoch: 9 [19200/60000 (32%)]\tLoss: 0.142564\n",
            "Train Epoch: 9 [25600/60000 (43%)]\tLoss: 0.137948\n",
            "Train Epoch: 9 [32000/60000 (53%)]\tLoss: 0.119133\n",
            "Train Epoch: 9 [38400/60000 (64%)]\tLoss: 0.186640\n",
            "Train Epoch: 9 [44800/60000 (75%)]\tLoss: 0.063752\n",
            "Train Epoch: 9 [51200/60000 (85%)]\tLoss: 0.185941\n",
            "Train Epoch: 9 [57600/60000 (96%)]\tLoss: 0.071752\n",
            "\n",
            "Validation set: Average loss: 0.1281, Accuracy: 9613/10000 (96%)\n",
            "\n",
            "Train Epoch: 10 [0/60000 (0%)]\tLoss: 0.030763\n",
            "Train Epoch: 10 [6400/60000 (11%)]\tLoss: 0.246557\n",
            "Train Epoch: 10 [12800/60000 (21%)]\tLoss: 0.172290\n",
            "Train Epoch: 10 [19200/60000 (32%)]\tLoss: 0.107392\n",
            "Train Epoch: 10 [25600/60000 (43%)]\tLoss: 0.097414\n",
            "Train Epoch: 10 [32000/60000 (53%)]\tLoss: 0.127852\n",
            "Train Epoch: 10 [38400/60000 (64%)]\tLoss: 0.079513\n",
            "Train Epoch: 10 [44800/60000 (75%)]\tLoss: 0.381590\n",
            "Train Epoch: 10 [51200/60000 (85%)]\tLoss: 0.088929\n",
            "Train Epoch: 10 [57600/60000 (96%)]\tLoss: 0.097358\n",
            "\n",
            "Validation set: Average loss: 0.1191, Accuracy: 9638/10000 (96%)\n",
            "\n",
            "CPU times: user 1min 39s, sys: 762 ms, total: 1min 40s\n",
            "Wall time: 1min 41s\n"
          ]
        }
      ],
      "source": [
        "%%time\n",
        "epochs = 10\n",
        "\n",
        "lossv, accv = [], []\n",
        "for epoch in range(1, epochs + 1):\n",
        "    train(epoch)\n",
        "    validate(lossv, accv)"
      ]
    },
    {
      "cell_type": "markdown",
      "metadata": {
        "id": "_XhwyPto_A1D"
      },
      "source": [
        "Let's now visualize how the training progressed.\n",
        "\n",
        "* *Loss* is a function of the difference of the network output and the target values.  We are minimizing the loss function during training so it should decrease over time.\n",
        "* *Accuracy* is the classification accuracy for the test data."
      ]
    },
    {
      "cell_type": "code",
      "execution_count": 9,
      "metadata": {
        "colab": {
          "base_uri": "https://localhost:8080/",
          "height": 611
        },
        "id": "mC3m1zTK_A1D",
        "outputId": "3d789883-2925-409a-8537-08ec97a195c8"
      },
      "outputs": [
        {
          "data": {
            "image/png": "[encoded data removed]",
            "text/plain": [
              "<Figure size 500x300 with 1 Axes>"
            ]
          },
          "metadata": {},
          "output_type": "display_data"
        },
        {
          "data": {
            "image/png": "[encoded data removed]",
            "text/plain": [
              "<Figure size 500x300 with 1 Axes>"
            ]
          },
          "metadata": {},
          "output_type": "display_data"
        }
      ],
      "source": [
        "plt.figure(figsize=(5,3))\n",
        "plt.plot(np.arange(1,epochs+1), lossv)\n",
        "plt.title('validation loss')\n",
        "\n",
        "plt.figure(figsize=(5,3))\n",
        "plt.plot(np.arange(1,epochs+1), accv)\n",
        "plt.title('validation accuracy');"
      ]
    },
    {
      "cell_type": "markdown",
      "metadata": {
        "id": "WZRi7neO_A1D"
      },
      "source": [
        "## Model tuning\n",
        "\n",
        "Modify the MLP model.  Try to improve the classification accuracy\n"
      ]
    },
    {
      "cell_type": "markdown",
      "metadata": {
        "id": "oIsCiKdHwkOu"
      },
      "source": [
        "## Proposta Modelo 1"
      ]
    },
    {
      "cell_type": "code",
      "execution_count": null,
      "metadata": {
        "id": "jrfbY8MYwuN_"
      },
      "outputs": [],
      "source": [
        "class mini_CNN(nn.Module):\n",
        "    def __init__(self, num_dense_units = 128, activation_function = nn.ReLU()):\n",
        "        super().__init__()\n",
        "\n",
        "        self.num_dense_units = num_dense_units\n",
        "\n",
        "        self.backbone = nn.Sequential(\n",
        "            nn.Conv2d(in_channels=1, out_channels= 32, kernel_size= 3, padding='same'),\n",
        "            # [60000,32,28,28]\n",
        "            activation_function,\n",
        "            nn.MaxPool2d(kernel_size=2),\n",
        "            # [60000,32,14,14]\n",
        "            nn.Conv2d(in_channels=32, out_channels= 64, kernel_size= 3, padding='same'),\n",
        "            activation_function,\n",
        "            # Vai sair algo aqui do tipo [60000, 64, 14, 14]\n",
        "\n",
        "        )\n",
        "        self.projector = nn.Sequential(\n",
        "            nn.Flatten(),\n",
        "            # [60000,64x14x14]\n",
        "            # in_features = 64x14x14 = 12544\n",
        "            nn.Linear(in_features=12544, out_features=num_dense_units),\n",
        "            activation_function,\n",
        "            nn.Softmax(dim=1),\n",
        "        )\n",
        "\n",
        "    def forward(self, X, **kwargs):\n",
        "        X = self.backbone(X)\n",
        "        X = self.projector(X)\n",
        "        return X"
      ]
    }
  ],
  "metadata": {
    "accelerator": "GPU",
    "colab": {
      "gpuType": "T4",
      "provenance": []
    },
    "kernelspec": {
      "display_name": "MachineLearning",
      "language": "python",
      "name": "python3"
    },
    "language_info": {
      "codemirror_mode": {
        "name": "ipython",
        "version": 3
      },
      "file_extension": ".py",
      "mimetype": "text/x-python",
      "name": "python",
      "nbconvert_exporter": "python",
      "pygments_lexer": "ipython3",
      "version": "3.13.5"
    }
  },
  "nbformat": 4,
  "nbformat_minor": 0
}
